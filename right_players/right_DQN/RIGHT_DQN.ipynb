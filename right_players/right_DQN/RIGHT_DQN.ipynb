{
 "cells": [
  {
   "cell_type": "markdown",
   "metadata": {},
   "source": [
    "In this notebook I'll train a DQN agent to play the game of Pong. The agent will be trained using Gymnasium library. "
   ]
  },
  {
   "cell_type": "markdown",
   "metadata": {},
   "source": [
    "Necessary imports"
   ]
  },
  {
   "cell_type": "code",
   "execution_count": 1,
   "metadata": {},
   "outputs": [
    {
     "name": "stdout",
     "output_type": "stream",
     "text": [
      "Requirement already satisfied: gymnasium in /home/ndelafuente/miniconda3/lib/python3.11/site-packages (0.29.1)\n",
      "Requirement already satisfied: numpy>=1.21.0 in /home/ndelafuente/miniconda3/lib/python3.11/site-packages (from gymnasium) (1.26.2)\n",
      "Requirement already satisfied: cloudpickle>=1.2.0 in /home/ndelafuente/miniconda3/lib/python3.11/site-packages (from gymnasium) (3.0.0)\n",
      "Requirement already satisfied: typing-extensions>=4.3.0 in /home/ndelafuente/miniconda3/lib/python3.11/site-packages (from gymnasium) (4.9.0)\n",
      "Requirement already satisfied: farama-notifications>=0.0.1 in /home/ndelafuente/miniconda3/lib/python3.11/site-packages (from gymnasium) (0.0.4)\n",
      "Requirement already satisfied: supersuit in /home/ndelafuente/miniconda3/lib/python3.11/site-packages (3.9.1)\n",
      "Requirement already satisfied: numpy>=1.19.0 in /home/ndelafuente/miniconda3/lib/python3.11/site-packages (from supersuit) (1.26.2)\n",
      "Requirement already satisfied: gymnasium>=0.28.1 in /home/ndelafuente/miniconda3/lib/python3.11/site-packages (from supersuit) (0.29.1)\n",
      "Requirement already satisfied: tinyscaler>=1.2.6 in /home/ndelafuente/miniconda3/lib/python3.11/site-packages (from supersuit) (1.2.7)\n",
      "Requirement already satisfied: cloudpickle>=1.2.0 in /home/ndelafuente/miniconda3/lib/python3.11/site-packages (from gymnasium>=0.28.1->supersuit) (3.0.0)\n",
      "Requirement already satisfied: typing-extensions>=4.3.0 in /home/ndelafuente/miniconda3/lib/python3.11/site-packages (from gymnasium>=0.28.1->supersuit) (4.9.0)\n",
      "Requirement already satisfied: farama-notifications>=0.0.1 in /home/ndelafuente/miniconda3/lib/python3.11/site-packages (from gymnasium>=0.28.1->supersuit) (0.0.4)\n",
      "Requirement already satisfied: torch in /home/ndelafuente/miniconda3/lib/python3.11/site-packages (2.1.1)\n",
      "Requirement already satisfied: filelock in /home/ndelafuente/miniconda3/lib/python3.11/site-packages (from torch) (3.13.1)\n",
      "Requirement already satisfied: typing-extensions in /home/ndelafuente/miniconda3/lib/python3.11/site-packages (from torch) (4.9.0)\n",
      "Requirement already satisfied: sympy in /home/ndelafuente/miniconda3/lib/python3.11/site-packages (from torch) (1.12)\n",
      "Requirement already satisfied: networkx in /home/ndelafuente/miniconda3/lib/python3.11/site-packages (from torch) (3.2.1)\n",
      "Requirement already satisfied: jinja2 in /home/ndelafuente/miniconda3/lib/python3.11/site-packages (from torch) (3.1.2)\n",
      "Requirement already satisfied: fsspec in /home/ndelafuente/miniconda3/lib/python3.11/site-packages (from torch) (2023.12.2)\n",
      "Requirement already satisfied: nvidia-cuda-nvrtc-cu12==12.1.105 in /home/ndelafuente/miniconda3/lib/python3.11/site-packages (from torch) (12.1.105)\n",
      "Requirement already satisfied: nvidia-cuda-runtime-cu12==12.1.105 in /home/ndelafuente/miniconda3/lib/python3.11/site-packages (from torch) (12.1.105)\n",
      "Requirement already satisfied: nvidia-cuda-cupti-cu12==12.1.105 in /home/ndelafuente/miniconda3/lib/python3.11/site-packages (from torch) (12.1.105)\n",
      "Requirement already satisfied: nvidia-cudnn-cu12==8.9.2.26 in /home/ndelafuente/miniconda3/lib/python3.11/site-packages (from torch) (8.9.2.26)\n",
      "Requirement already satisfied: nvidia-cublas-cu12==12.1.3.1 in /home/ndelafuente/miniconda3/lib/python3.11/site-packages (from torch) (12.1.3.1)\n",
      "Requirement already satisfied: nvidia-cufft-cu12==11.0.2.54 in /home/ndelafuente/miniconda3/lib/python3.11/site-packages (from torch) (11.0.2.54)\n",
      "Requirement already satisfied: nvidia-curand-cu12==10.3.2.106 in /home/ndelafuente/miniconda3/lib/python3.11/site-packages (from torch) (10.3.2.106)\n",
      "Requirement already satisfied: nvidia-cusolver-cu12==11.4.5.107 in /home/ndelafuente/miniconda3/lib/python3.11/site-packages (from torch) (11.4.5.107)\n",
      "Requirement already satisfied: nvidia-cusparse-cu12==12.1.0.106 in /home/ndelafuente/miniconda3/lib/python3.11/site-packages (from torch) (12.1.0.106)\n",
      "Requirement already satisfied: nvidia-nccl-cu12==2.18.1 in /home/ndelafuente/miniconda3/lib/python3.11/site-packages (from torch) (2.18.1)\n",
      "Requirement already satisfied: nvidia-nvtx-cu12==12.1.105 in /home/ndelafuente/miniconda3/lib/python3.11/site-packages (from torch) (12.1.105)\n",
      "Requirement already satisfied: triton==2.1.0 in /home/ndelafuente/miniconda3/lib/python3.11/site-packages (from torch) (2.1.0)\n",
      "Requirement already satisfied: nvidia-nvjitlink-cu12 in /home/ndelafuente/miniconda3/lib/python3.11/site-packages (from nvidia-cusolver-cu12==11.4.5.107->torch) (12.3.101)\n",
      "Requirement already satisfied: MarkupSafe>=2.0 in /home/ndelafuente/miniconda3/lib/python3.11/site-packages (from jinja2->torch) (2.1.3)\n",
      "Requirement already satisfied: mpmath>=0.19 in /home/ndelafuente/miniconda3/lib/python3.11/site-packages (from sympy->torch) (1.3.0)\n",
      "Requirement already satisfied: autorom[accept-rom-license] in /home/ndelafuente/miniconda3/lib/python3.11/site-packages (0.6.1)\n",
      "Requirement already satisfied: click in /home/ndelafuente/miniconda3/lib/python3.11/site-packages (from autorom[accept-rom-license]) (8.1.7)\n",
      "Requirement already satisfied: requests in /home/ndelafuente/miniconda3/lib/python3.11/site-packages (from autorom[accept-rom-license]) (2.31.0)\n",
      "Requirement already satisfied: AutoROM.accept-rom-license in /home/ndelafuente/miniconda3/lib/python3.11/site-packages (from autorom[accept-rom-license]) (0.6.1)\n",
      "Requirement already satisfied: charset-normalizer<4,>=2 in /home/ndelafuente/miniconda3/lib/python3.11/site-packages (from requests->autorom[accept-rom-license]) (2.0.4)\n",
      "Requirement already satisfied: idna<4,>=2.5 in /home/ndelafuente/miniconda3/lib/python3.11/site-packages (from requests->autorom[accept-rom-license]) (3.4)\n",
      "Requirement already satisfied: urllib3<3,>=1.21.1 in /home/ndelafuente/miniconda3/lib/python3.11/site-packages (from requests->autorom[accept-rom-license]) (1.26.18)\n",
      "Requirement already satisfied: certifi>=2017.4.17 in /home/ndelafuente/miniconda3/lib/python3.11/site-packages (from requests->autorom[accept-rom-license]) (2023.11.17)\n"
     ]
    }
   ],
   "source": [
    "import warnings\n",
    "warnings.filterwarnings(\"ignore\")\n",
    "!pip install gymnasium\n",
    "!pip install supersuit\n",
    "!pip install torch\n",
    "!pip install autorom[accept-rom-license]"
   ]
  },
  {
   "cell_type": "code",
   "execution_count": 2,
   "metadata": {},
   "outputs": [],
   "source": [
    "import gymnasium as gym\n",
    "import numpy as np\n",
    "import torch\n",
    "import torch.nn as nn\n",
    "import torch.nn.functional as F\n",
    "import torch.optim as optim\n",
    "import supersuit as ss\n",
    "import collections\n",
    "import time\n"
   ]
  },
  {
   "cell_type": "markdown",
   "metadata": {},
   "source": [
    "Lets create the environment and see what it looks like before we start applying the wrappers from supersuit library."
   ]
  },
  {
   "cell_type": "code",
   "execution_count": 3,
   "metadata": {},
   "outputs": [
    {
     "name": "stderr",
     "output_type": "stream",
     "text": [
      "A.L.E: Arcade Learning Environment (version 0.8.1+53f58b7)\n",
      "[Powered by Stella]\n"
     ]
    },
    {
     "name": "stdout",
     "output_type": "stream",
     "text": [
      "environment's observation space: Box(0, 255, (210, 160, 3), uint8)\n",
      "environment's action space: Discrete(6)\n"
     ]
    }
   ],
   "source": [
    "env = gym.make(\"ALE/Pong-v5\")\n",
    "print(\"environment's observation space:\", env.observation_space)\n",
    "print(\"environment's action space:\", env.action_space)"
   ]
  },
  {
   "cell_type": "markdown",
   "metadata": {},
   "source": [
    "## Wrappers"
   ]
  },
  {
   "cell_type": "markdown",
   "metadata": {},
   "source": [
    "Now lets apply the wrappers from supersuit library. The wrappers will do the following:\n"
   ]
  },
  {
   "cell_type": "markdown",
   "metadata": {},
   "source": [
    "The first wrapper is a color reduction wrapper that will make the image grayscale. This will save a lot of computation while we won't lose any relevant information as the game is pretty simple and the color of the ball and the paddles is the same and does not change during the game."
   ]
  },
  {
   "cell_type": "code",
   "execution_count": 4,
   "metadata": {},
   "outputs": [
    {
     "name": "stdout",
     "output_type": "stream",
     "text": [
      "environment's observation space: Box(0, 255, (210, 160), uint8)\n"
     ]
    }
   ],
   "source": [
    "env = ss.color_reduction_v0(env, mode=\"full\")\n",
    "\n",
    "print(\"environment's observation space:\", env.observation_space)"
   ]
  },
  {
   "cell_type": "markdown",
   "metadata": {},
   "source": [
    "The second wrapper is a resize wrapper that will resize the image to 84x84. This will also save a lot of computation and will not affect the performance of the agent as the agent will be able to see both the paddle and the ball even after the resize/cut."
   ]
  },
  {
   "cell_type": "code",
   "execution_count": 5,
   "metadata": {},
   "outputs": [
    {
     "name": "stdout",
     "output_type": "stream",
     "text": [
      "environment's observation space: Box(0, 255, (84, 84), uint8)\n"
     ]
    }
   ],
   "source": [
    "env = ss.resize_v1(env, x_size=84, y_size=84) # Resize the observation space to 84x84 \n",
    "\n",
    "print(\"environment's observation space:\", env.observation_space)"
   ]
  },
  {
   "cell_type": "markdown",
   "metadata": {},
   "source": [
    "The third wrapper is a frame stacking wrapper that will stack 4 frames together. This will allow the agent to see the movement of the ball and the paddle. This is important as the agent will be able to see the direction of the ball and the paddle and also the speed of the ball, which is important for the agent to learn how to play the game."
   ]
  },
  {
   "cell_type": "code",
   "execution_count": 6,
   "metadata": {},
   "outputs": [
    {
     "name": "stdout",
     "output_type": "stream",
     "text": [
      "environment's observation space: Box(0, 255, (84, 84, 4), uint8)\n"
     ]
    }
   ],
   "source": [
    "env = ss.frame_stack_v1(env, 4) # Stack 4 frames together\n",
    "\n",
    "print(\"environment's observation space:\", env.observation_space)"
   ]
  },
  {
   "cell_type": "markdown",
   "metadata": {},
   "source": [
    "The fourth wrapper is a dtype wrapper that will convert the data type of the image from uint8 to float32. This is important as the neural network will be able to learn faster if the data type is float32 as it is a more precise data type."
   ]
  },
  {
   "cell_type": "code",
   "execution_count": 7,
   "metadata": {},
   "outputs": [
    {
     "name": "stdout",
     "output_type": "stream",
     "text": [
      "environment's observation space: Box(0.0, 255.0, (84, 84, 4), float32)\n"
     ]
    }
   ],
   "source": [
    "env = ss.dtype_v0(env, dtype=np.float32) # Convert observations to float32\n",
    "\n",
    "print(\"environment's observation space:\", env.observation_space)"
   ]
  },
  {
   "cell_type": "markdown",
   "metadata": {},
   "source": [
    "The fifth and last wrapper is a normalization wrapper that will normalize the image between 0 and 1. This is important as the neural network will be able to learn faster if the data is normalized."
   ]
  },
  {
   "cell_type": "code",
   "execution_count": 8,
   "metadata": {},
   "outputs": [
    {
     "name": "stdout",
     "output_type": "stream",
     "text": [
      "environment's observation space: Box(0.0, 1.0, (84, 84, 4), float32)\n"
     ]
    }
   ],
   "source": [
    "env = ss.normalize_obs_v0(env, env_min=0, env_max=1) # Normalize observations to [0, 1]\n",
    "\n",
    "print(\"environment's observation space:\", env.observation_space)"
   ]
  },
  {
   "cell_type": "markdown",
   "metadata": {},
   "source": [
    "Now we have our environment ready for training. Lets show how the environment looks like after starting the modelling and training phases."
   ]
  },
  {
   "cell_type": "code",
   "execution_count": 9,
   "metadata": {},
   "outputs": [
    {
     "name": "stdout",
     "output_type": "stream",
     "text": [
      "environment's observation space: Box(0.0, 1.0, (84, 84, 4), float32)\n",
      "environment's observation space shape: (84, 84, 4)\n",
      "environment's action space: Discrete(6)\n",
      "Meaning of the actions:  ['NOOP', 'FIRE', 'RIGHT', 'LEFT', 'RIGHTFIRE', 'LEFTFIRE']\n"
     ]
    }
   ],
   "source": [
    "print(\"environment's observation space:\", env.observation_space)\n",
    "print(\"environment's observation space shape:\", env.observation_space.shape)\n",
    "print(\"environment's action space:\", env.action_space)\n",
    "print(\"Meaning of the actions: \",env.unwrapped.get_action_meanings())"
   ]
  },
  {
   "cell_type": "markdown",
   "metadata": {},
   "source": [
    "Finally we'll wrap them all together in a function that will create the environment and apply the wrappers."
   ]
  },
  {
   "cell_type": "code",
   "execution_count": 10,
   "metadata": {},
   "outputs": [],
   "source": [
    "def make_env():\n",
    "    env = gym.make(\"ALE/Pong-v5\")\n",
    "    env = ss.color_reduction_v0(env, mode=\"full\")\n",
    "    env = ss.resize_v1(env, x_size=84, y_size=84)\n",
    "    env = ss.frame_stack_v1(env, 4)\n",
    "    env = ss.dtype_v0(env, dtype=np.float32)\n",
    "    env = ss.normalize_obs_v0(env, env_min=0, env_max=1)\n",
    "    return env"
   ]
  },
  {
   "cell_type": "markdown",
   "metadata": {},
   "source": [
    "Lets check that our GPU's are ready for training."
   ]
  },
  {
   "cell_type": "code",
   "execution_count": 11,
   "metadata": {},
   "outputs": [
    {
     "name": "stdout",
     "output_type": "stream",
     "text": [
      "Wed Dec 27 12:09:04 2023       \n",
      "+---------------------------------------------------------------------------------------+\n",
      "| NVIDIA-SMI 535.104.05             Driver Version: 535.104.05   CUDA Version: 12.2     |\n",
      "|-----------------------------------------+----------------------+----------------------+\n",
      "| GPU  Name                 Persistence-M | Bus-Id        Disp.A | Volatile Uncorr. ECC |\n",
      "| Fan  Temp   Perf          Pwr:Usage/Cap |         Memory-Usage | GPU-Util  Compute M. |\n",
      "|                                         |                      |               MIG M. |\n",
      "|=========================================+======================+======================|\n",
      "|   0  NVIDIA GeForce RTX 2080 Ti     On  | 00000000:1A:00.0 Off |                  N/A |\n",
      "| 30%   44C    P2              60W / 250W |    327MiB / 11264MiB |     18%      Default |\n",
      "|                                         |                      |                  N/A |\n",
      "+-----------------------------------------+----------------------+----------------------+\n",
      "|   1  NVIDIA GeForce RTX 2080 Ti     On  | 00000000:1B:00.0 Off |                  N/A |\n",
      "| 27%   27C    P8               1W / 250W |      3MiB / 11264MiB |      0%      Default |\n",
      "|                                         |                      |                  N/A |\n",
      "+-----------------------------------------+----------------------+----------------------+\n",
      "|   2  NVIDIA GeForce RTX 2080 Ti     On  | 00000000:1E:00.0 Off |                  N/A |\n",
      "| 27%   27C    P8               1W / 250W |      3MiB / 11264MiB |      0%      Default |\n",
      "|                                         |                      |                  N/A |\n",
      "+-----------------------------------------+----------------------+----------------------+\n",
      "|   3  NVIDIA GeForce RTX 2080 Ti     On  | 00000000:3D:00.0 Off |                  N/A |\n",
      "| 27%   25C    P8               1W / 250W |      3MiB / 11264MiB |      0%      Default |\n",
      "|                                         |                      |                  N/A |\n",
      "+-----------------------------------------+----------------------+----------------------+\n",
      "|   4  NVIDIA GeForce RTX 2080 Ti     On  | 00000000:3E:00.0 Off |                  N/A |\n",
      "| 27%   26C    P8               1W / 250W |      3MiB / 11264MiB |      0%      Default |\n",
      "|                                         |                      |                  N/A |\n",
      "+-----------------------------------------+----------------------+----------------------+\n",
      "|   5  NVIDIA GeForce RTX 2080 Ti     On  | 00000000:41:00.0 Off |                  N/A |\n",
      "| 27%   27C    P8               1W / 250W |      3MiB / 11264MiB |      0%      Default |\n",
      "|                                         |                      |                  N/A |\n",
      "+-----------------------------------------+----------------------+----------------------+\n",
      "                                                                                         \n",
      "+---------------------------------------------------------------------------------------+\n",
      "| Processes:                                                                            |\n",
      "|  GPU   GI   CI        PID   Type   Process name                            GPU Memory |\n",
      "|        ID   ID                                                             Usage      |\n",
      "|=======================================================================================|\n",
      "|    0   N/A  N/A   2681422      C   ...e/ndelafuente/miniconda3/bin/python      324MiB |\n",
      "+---------------------------------------------------------------------------------------+\n"
     ]
    }
   ],
   "source": [
    "!nvidia-smi"
   ]
  },
  {
   "cell_type": "markdown",
   "metadata": {},
   "source": [
    "## Neural Network architecture"
   ]
  },
  {
   "cell_type": "markdown",
   "metadata": {},
   "source": [
    "Let's start by defining the neural network architecture that will serve as a function approximator for the Q function. The neural network will be a convolutional neural network. The input will be the wrapped environment and the output would be a vector of size 6, where each element in the vector represents the Q value of a specific action."
   ]
  },
  {
   "cell_type": "code",
   "execution_count": 12,
   "metadata": {},
   "outputs": [],
   "source": [
    "#Instantiate the cuda device object\n",
    "device = torch.device(\"cuda\" if torch.cuda.is_available() else \"cpu\")"
   ]
  },
  {
   "cell_type": "code",
   "execution_count": 13,
   "metadata": {},
   "outputs": [
    {
     "name": "stdout",
     "output_type": "stream",
     "text": [
      "Let's see how the architecture looks like:\n",
      " \n",
      " Sequential(\n",
      "  (0): Conv2d(4, 32, kernel_size=(8, 8), stride=(4, 4))\n",
      "  (1): ReLU()\n",
      "  (2): Conv2d(32, 64, kernel_size=(4, 4), stride=(2, 2))\n",
      "  (3): ReLU()\n",
      "  (4): Conv2d(64, 64, kernel_size=(3, 3), stride=(1, 1))\n",
      "  (5): Flatten(start_dim=1, end_dim=-1)\n",
      "  (6): Linear(in_features=3136, out_features=512, bias=True)\n",
      "  (7): ReLU()\n",
      "  (8): Linear(in_features=512, out_features=6, bias=True)\n",
      ")\n"
     ]
    }
   ],
   "source": [
    "def DQN(obs_shape, num_actions):\n",
    "    return nn.Sequential(\n",
    "        nn.Conv2d(obs_shape[2], 32, kernel_size=8, stride=4),  # Use obs_shape[2] for the number of channels\n",
    "        nn.ReLU(),\n",
    "        nn.Conv2d(32, 64, kernel_size=4, stride=2),\n",
    "        nn.ReLU(),\n",
    "        nn.Conv2d(64, 64, kernel_size=3, stride=1),\n",
    "        nn.Flatten(),\n",
    "        nn.Linear(64 * 7 * 7, 512),  # Ensure that the input features to this linear layer match the output from the last conv layer\n",
    "        nn.ReLU(),\n",
    "        nn.Linear(512, num_actions)\n",
    "    )\n",
    "\n",
    "\n",
    "check_env = make_env()\n",
    "check_net = DQN(check_env.observation_space.shape, check_env.action_space.n).to(device)\n",
    "print(\"Let's see how the architecture looks like:\\n \\n\", check_net)"
   ]
  },
  {
   "cell_type": "markdown",
   "metadata": {},
   "source": [
    "## Experienvce Replay"
   ]
  },
  {
   "cell_type": "markdown",
   "metadata": {},
   "source": [
    "Next step is to define the experience replay buffer.The experience replay buffer will store the experiences of the agent "
   ]
  },
  {
   "cell_type": "code",
   "execution_count": 14,
   "metadata": {},
   "outputs": [
    {
     "name": "stdout",
     "output_type": "stream",
     "text": [
      "The length of the buffer is: 0\n",
      "Let's add some experience to the buffer\n",
      "The length of the buffer is: 1\n",
      "Let's add some more experience to the buffer\n",
      "The length of the buffer is: 2\n",
      "Let's sample the batch from the buffer\n",
      "The states are: [1 1] of type: <class 'numpy.ndarray'>\n",
      "The actions are: [2 2] of type: <class 'numpy.ndarray'>\n",
      "The rewards are: [3. 3.] of type: <class 'numpy.ndarray'>\n",
      "The terminated are: [4. 4.] of type: <class 'numpy.ndarray'>\n",
      "The truncated are: [5. 5.] of type: <class 'numpy.ndarray'>\n",
      "The new_states are: [6 6] of type: <class 'numpy.ndarray'>\n"
     ]
    }
   ],
   "source": [
    "#Define the experience tuple to store the experience which is composed of the state, action, terminated, truncated, truncated and new_state\n",
    "Experience = collections.namedtuple('Experience', field_names=['state', 'action', 'reward', 'terminated', 'truncated', 'new_state'])\n",
    "\n",
    "class ExperienceReplay:\n",
    "    def __init__(self, capacity):\n",
    "        #Initialize the buffer with the capacity\n",
    "        self.buffer = collections.deque(maxlen=capacity)\n",
    "\n",
    "    def __len__(self):\n",
    "        #Return the length of the buffer\n",
    "        return len(self.buffer)\n",
    "    \n",
    "    def append(self, experience):\n",
    "        #Append the experience to the buffer\n",
    "        self.buffer.append(experience)\n",
    "    \n",
    "    def sample(self, batch_size):\n",
    "        #Sample the batch from the buffer\n",
    "        \n",
    "        #Choose the random indices from the buffer to be sampled\n",
    "        indices = np.random.choice(len(self.buffer), batch_size, replace=False)\n",
    "        #Get the states, actions, rewards, terminated, truncated, new_states from the buffer by using the indices,\n",
    "        # the zip(*[]) is used to unzip the list of tuples into the list of lists \n",
    "        states, actions, rewards, terminated, truncated, new_states = zip(*[self.buffer[idx] for idx in indices])\n",
    "        \n",
    "        #Return the states, actions, rewards, terminated, truncated, new_states as numpy arrays\n",
    "        return np.array(states), np.array(actions), np.array(rewards, dtype=np.float32), np .array(terminated, dtype=np.float32), np.array(truncated, dtype=np.float32), np.array(new_states)\n",
    "    \n",
    "\n",
    "\n",
    "check_rep = ExperienceReplay(capacity = 10000)\n",
    "print(\"The length of the buffer is:\", len(check_rep))\n",
    "print(\"Let's add some experience to the buffer\")\n",
    "check_rep.append(Experience(1,2,3,4,5,6))\n",
    "print(\"The length of the buffer is:\", len(check_rep))\n",
    "print(\"Let's add some more experience to the buffer\")\n",
    "check_rep.append(Experience(1,2,3,4,5,6))\n",
    "print(\"The length of the buffer is:\", len(check_rep))\n",
    "print(\"Let's sample the batch from the buffer\")\n",
    "states, actions, rewards, terminated, truncated, new_states = check_rep.sample(batch_size=2)\n",
    "print(\"The states are:\", states, \"of type:\", type(states))\n",
    "print(\"The actions are:\", actions, \"of type:\", type(actions))\n",
    "print(\"The rewards are:\", rewards, \"of type:\", type(rewards))\n",
    "print(\"The terminated are:\", terminated, \"of type:\", type(terminated))\n",
    "print(\"The truncated are:\", truncated, \"of type:\", type(truncated))\n",
    "print(\"The new_states are:\", new_states, \"of type:\", type(new_states))"
   ]
  },
  {
   "cell_type": "markdown",
   "metadata": {},
   "source": [
    "##  Epsilon Greedy Policy"
   ]
  },
  {
   "cell_type": "markdown",
   "metadata": {},
   "source": [
    "First of all let's define the epsilon greedy policy that will be used during the training phase. The epsilon greedy policy will be used to select the action that the agent will take. The epsilon greedy policy will select a random action with probability epsilon and will select the action with the highest Q value with probability 1-epsilon. This epsilon will be decayed over time to make the agent explore less and less as the agent learns more and more."
   ]
  },
  {
   "cell_type": "code",
   "execution_count": 15,
   "metadata": {},
   "outputs": [
    {
     "name": "stdout",
     "output_type": "stream",
     "text": [
      "The exploration rate at step 0 is: 1.0\n",
      "The exploration rate at step 1 is: 0.999990200049\n",
      "The exploration rate at step 10 is: 0.9999020048998368\n",
      "The exploration rate at step 100 is: 0.9990204898367077\n",
      "The exploration rate at step 10000 is: 0.9067406696752404\n",
      "The exploration rate at step 100000 is: 0.38052185234801356\n",
      "The exploration rate at step 1000000 is: 0.020044491931167235\n"
     ]
    }
   ],
   "source": [
    "\n",
    "class EpsilonGreedyStrategy:\n",
    "    def __init__(self, start, end, decay):\n",
    "        #Initialize the start, end, decay values\n",
    "        self.start = start\n",
    "        self.end = end\n",
    "        self.decay = decay\n",
    "    \n",
    "    def get_exploration_rate(self, current_step):\n",
    "        #Return the exploration rate\n",
    "        return self.end + (self.start - self.end) * np.exp(-1. * current_step / self.decay)\n",
    "    \n",
    "\n",
    "check_strat = EpsilonGreedyStrategy(1.0, 0.02, 100000)\n",
    "print(\"The exploration rate at step 0 is:\", check_strat.get_exploration_rate(0))\n",
    "print(\"The exploration rate at step 1 is:\", check_strat.get_exploration_rate(1))\n",
    "print(\"The exploration rate at step 10 is:\", check_strat.get_exploration_rate(10))\n",
    "print(\"The exploration rate at step 100 is:\", check_strat.get_exploration_rate(100))\n",
    "print(\"The exploration rate at step 10000 is:\", check_strat.get_exploration_rate(10000))\n",
    "print(\"The exploration rate at step 100000 is:\", check_strat.get_exploration_rate(100000))\n",
    "print(\"The exploration rate at step 1000000 is:\", check_strat.get_exploration_rate(1000000))\n"
   ]
  },
  {
   "cell_type": "markdown",
   "metadata": {},
   "source": [
    "## Agent"
   ]
  },
  {
   "cell_type": "markdown",
   "metadata": {},
   "source": [
    "Now lets define the agent. The agent will make use of the neural network, the experience replay buffer and the epsilon greedy policy that we defined earlier. "
   ]
  },
  {
   "cell_type": "code",
   "execution_count": 16,
   "metadata": {},
   "outputs": [
    {
     "name": "stdout",
     "output_type": "stream",
     "text": [
      "None\n"
     ]
    }
   ],
   "source": [
    "class Agent:\n",
    "    def __init__(self, env, exp_replay_buffer):\n",
    "        self.env = env\n",
    "        self.exp_replay_buffer = exp_replay_buffer\n",
    "        self._reset()\n",
    "    \n",
    "    def _reset(self):\n",
    "        #Reset the environment\n",
    "        self.current_state, info = self.env.reset() # Get the current state and info from the environment\n",
    "        self.total_reward = 0.0\n",
    "        self.current_episode_steps = 0\n",
    "    \n",
    "    def step(self, dqn, strategy, device=device):\n",
    "        #set the done_reward to None initially, this is the value which will be returned when the episode is done\n",
    "        done_reward = None\n",
    "        \n",
    "        #Choose the action based on the strategy\n",
    "        exploration_rate = strategy.get_exploration_rate(self.current_episode_steps)\n",
    "        \n",
    "        if not np.random.rand() < exploration_rate:\n",
    "            action = self.env.action_space.sample()\n",
    "            #print(\"The action is:\", action)\n",
    "        \n",
    "        else:\n",
    "            state = torch.tensor(np.array(self.current_state).transpose(2, 0, 1), dtype=torch.float32).to(device)# Convert the current state to a tensor of shape [ 4, 84, 84]\n",
    "            #print(\"The state shape is:\", state.shape)\n",
    "            q_values = dqn(state.unsqueeze(0))\n",
    "            #print(\"The q_values shape is:\", q_values.shape)\n",
    "            action = torch.argmax(q_values, dim=1).item()\n",
    "        \n",
    "        #Take the action in the environment and get the next state, reward, terminated, truncated and info\n",
    "        new_state, reward, terminated, truncated, info = self.env.step(action)\n",
    "        \n",
    "        #Update the total reward and current episode steps\n",
    "        self.total_reward += reward\n",
    "        self.current_episode_steps += 1\n",
    "        \n",
    "        #Create the experience tuple and append it to the experience replay buffer\n",
    "        exp = Experience(self.current_state, action, reward, terminated, truncated, new_state)\n",
    "        self.exp_replay_buffer.append(exp)\n",
    "        \n",
    "        #Update the current state to the new state\n",
    "        self.current_state = new_state\n",
    "        \n",
    "        #Check if the episode is done and if so, update the done_reward and reset the environment\n",
    "        if terminated or truncated:\n",
    "            done_reward = self.total_reward\n",
    "            self._reset()\n",
    "            \n",
    "        #return the reward when the episode is done    \n",
    "        return done_reward\n",
    "    \n",
    "    \n",
    "#Test the agent\n",
    "print(Agent(make_env(), ExperienceReplay(10000)).step(check_net, check_strat))"
   ]
  },
  {
   "cell_type": "markdown",
   "metadata": {},
   "source": [
    "## Training"
   ]
  },
  {
   "cell_type": "markdown",
   "metadata": {},
   "source": [
    "First we'll set up the hyperparameters and some utility functions to help us during the training phase."
   ]
  },
  {
   "cell_type": "code",
   "execution_count": 17,
   "metadata": {},
   "outputs": [
    {
     "name": "stdout",
     "output_type": "stream",
     "text": [
      ">>>Training started at: 2023-12-27 12:09:05.971075\n"
     ]
    }
   ],
   "source": [
    "from torch.utils.tensorboard import SummaryWriter\n",
    "import datetime\n",
    "import os\n",
    "import multiprocessing\n",
    "\n",
    "%load_ext tensorboard\n",
    "print(\">>>Training started at:\", datetime.datetime.now())\n",
    "\n",
    "\n",
    "def save_model(model, optimizer, filename=\"model.pth\"):\n",
    "    torch.save({\n",
    "        'model_state_dict': model.state_dict(),\n",
    "        'optimizer_state_dict': optimizer.state_dict(),\n",
    "        }, filename)\n"
   ]
  },
  {
   "cell_type": "code",
   "execution_count": 18,
   "metadata": {},
   "outputs": [
    {
     "name": "stdout",
     "output_type": "stream",
     "text": [
      "The number of hyperparameter combinations to search over would be: 468750\n",
      "this is absolutely insane, so we'll just search over a few combinations by randomly sampling from the hyperparameter space\n"
     ]
    }
   ],
   "source": [
    "import wandb\n",
    "import random\n",
    "'''\n",
    "We'll define the hyperparameters that will be used during the training phase. \n",
    "Our goal is to do a grid search over the hyperparameters to find the best combination \n",
    "of hyperparameters that will give us the best performance, so we'll define lists that\n",
    "will contain all the hyperparameters that we want to search over.\n",
    "'''\n",
    "#Hyperparameters\n",
    "lrs = [0.0001, 0.00025, 0.0005, 0.001, 0.0025, 0.005]\n",
    "gammas = [0.99, 0.95, 0.9, 0.85, 0.8]\n",
    "batch_sizes = [32, 64, 128, 256, 512]\n",
    "buffer_sizes = [10000, 20000, 50000, 100000, 200000]\n",
    "target_updates = [100, 200, 500, 1000, 2000]\n",
    "epsilon_decays = [100000, 200000, 500000, 1000000, 2000000]\n",
    "epsilon_starts = [1.0, 0.9, 0.8, 0.7, 0.6]\n",
    "epsilon_ends = [0.02, 0.04, 0.06, 0.08, 0.1]\n",
    "env_name = \"ALE/Pong-v5\"\n",
    "num_episodes = 10000000\n",
    "max_steps_per_episode = 10000000\n",
    "solved_reward = 19\n",
    "min_episodes = 100\n",
    "max_no_improvement = 100\n",
    "device = torch.device(\"cuda\" if torch.cuda.is_available() else \"cpu\")\n",
    "\n",
    "num_searches = len(lrs) * len(gammas) * len(batch_sizes) * len(buffer_sizes) * len(target_updates) * len(epsilon_decays) * len(epsilon_starts) * len(epsilon_ends)\n",
    "print(\"The number of hyperparameter combinations to search over would be:\", num_searches)\n",
    "print(\"this is absolutely insane, so we'll just search over a few combinations by randomly sampling from the hyperparameter space\")\n",
    "num_searches = 100 # We'll just search over 100 combinations"
   ]
  },
  {
   "cell_type": "markdown",
   "metadata": {},
   "source": [
    "Now lets start the training phase. The training phase consists of a random parameter search over the hyperparameters that we defined earlier. The random parameter search will be done for 100 trials.\n"
   ]
  },
  {
   "cell_type": "code",
   "execution_count": 19,
   "metadata": {},
   "outputs": [
    {
     "name": "stderr",
     "output_type": "stream",
     "text": [
      "ERROR:wandb.jupyter:Failed to detect the name of this notebook, you can set it manually with the WANDB_NOTEBOOK_NAME environment variable to enable code saving.\n"
     ]
    },
    {
     "name": "stderr",
     "output_type": "stream",
     "text": [
      "\u001b[34m\u001b[1mwandb\u001b[0m: Currently logged in as: \u001b[33mneildlf\u001b[0m. Use \u001b[1m`wandb login --relogin`\u001b[0m to force relogin\n"
     ]
    },
    {
     "data": {
      "text/html": [
       "Tracking run with wandb version 0.16.1"
      ],
      "text/plain": [
       "<IPython.core.display.HTML object>"
      ]
     },
     "metadata": {},
     "output_type": "display_data"
    },
    {
     "data": {
      "text/html": [
       "Run data is saved locally in <code>/home/ndelafuente/RL_PONG/PONG_RL/right_players/right_DQN/wandb/run-20231227_120907-046d73h8</code>"
      ],
      "text/plain": [
       "<IPython.core.display.HTML object>"
      ]
     },
     "metadata": {},
     "output_type": "display_data"
    },
    {
     "data": {
      "text/html": [
       "Syncing run <strong><a href='https://wandb.ai/neildlf/DQN_RIGHT_PONG/runs/046d73h8' target=\"_blank\">autumn-energy-25</a></strong> to <a href='https://wandb.ai/neildlf/DQN_RIGHT_PONG' target=\"_blank\">Weights & Biases</a> (<a href='https://wandb.me/run' target=\"_blank\">docs</a>)<br/>"
      ],
      "text/plain": [
       "<IPython.core.display.HTML object>"
      ]
     },
     "metadata": {},
     "output_type": "display_data"
    },
    {
     "data": {
      "text/html": [
       " View project at <a href='https://wandb.ai/neildlf/DQN_RIGHT_PONG' target=\"_blank\">https://wandb.ai/neildlf/DQN_RIGHT_PONG</a>"
      ],
      "text/plain": [
       "<IPython.core.display.HTML object>"
      ]
     },
     "metadata": {},
     "output_type": "display_data"
    },
    {
     "data": {
      "text/html": [
       " View run at <a href='https://wandb.ai/neildlf/DQN_RIGHT_PONG/runs/046d73h8' target=\"_blank\">https://wandb.ai/neildlf/DQN_RIGHT_PONG/runs/046d73h8</a>"
      ],
      "text/plain": [
       "<IPython.core.display.HTML object>"
      ]
     },
     "metadata": {},
     "output_type": "display_data"
    },
    {
     "name": "stdout",
     "output_type": "stream",
     "text": [
      ">>>Training for parameters: 0.00025 0.95 256 10000 100 500000 0.9 0.04 started at: 2023-12-27 12:09:12.783818 on device: cuda\n",
      "Episode:1 | Frame:1005 | Total games:1  | Episode reward: -21.000 | Mean reward: -21.000 | epsilon used: 0.898\n",
      "lr=0.00025 | gamma=0.95 | batch_size=256 | target_update=100 | epsilon_decay=500000 | epsilon_start=0.9 | epsilon_end=0.04 | buffer_size=10000\n",
      "Episode:2 | Frame:1908 | Total games:2  | Episode reward: -21.000 | Mean reward: -21.000 | epsilon used: 0.897\n",
      "lr=0.00025 | gamma=0.95 | batch_size=256 | target_update=100 | epsilon_decay=500000 | epsilon_start=0.9 | epsilon_end=0.04 | buffer_size=10000\n",
      "Episode:3 | Frame:2879 | Total games:3  | Episode reward: -21.000 | Mean reward: -21.000 | epsilon used: 0.895\n",
      "lr=0.00025 | gamma=0.95 | batch_size=256 | target_update=100 | epsilon_decay=500000 | epsilon_start=0.9 | epsilon_end=0.04 | buffer_size=10000\n",
      "Episode:4 | Frame:3968 | Total games:4  | Episode reward: -20.000 | Mean reward: -20.750 | epsilon used: 0.893\n",
      "lr=0.00025 | gamma=0.95 | batch_size=256 | target_update=100 | epsilon_decay=500000 | epsilon_start=0.9 | epsilon_end=0.04 | buffer_size=10000\n"
     ]
    }
   ],
   "source": [
    "\n",
    "\n",
    "#Remember we want to do a random grid search over the hyperparameters, so instead of looping over all the hyperparameters \n",
    "# we'll just randomly sample  100 different sets of hyperparams from the hyperparameter space.\n",
    "\n",
    "#Also remember the device is cuda if cuda is available, else it is cpu, so we'll use the device variable to send the tensors to the device\n",
    "\n",
    "results = [] \n",
    "for _ in range(num_searches):\n",
    "    # Randomly sample hyperparameters\n",
    "    lr = random.choice(lrs)\n",
    "    gamma = random.choice(gammas)\n",
    "    batch_size = random.choice(batch_sizes)\n",
    "    buffer_size = random.choice(buffer_sizes)\n",
    "    target_update = random.choice(target_updates)\n",
    "    epsilon_decay = random.choice(epsilon_decays)\n",
    "    epsilon_start = random.choice(epsilon_starts)\n",
    "    epsilon_end = random.choice(epsilon_ends)\n",
    "                                \n",
    "    #Initialize wandb\n",
    "    wandb.init(project=\"DQN_RIGHT_PONG\", entity=\"neildlf\", config={\n",
    "        'lr': lr,\n",
    "        'gamma': gamma,\n",
    "        'batch_size': batch_size,\n",
    "        'buffer_size': buffer_size,\n",
    "        'target_update': target_update,\n",
    "        'epsilon_decay': epsilon_decay,\n",
    "        'epsilon_start': epsilon_start,\n",
    "        'epsilon_end': epsilon_end,\n",
    "    })\n",
    "    \n",
    "    print(\">>>Training for parameters:\", lr, gamma, batch_size, buffer_size, target_update, epsilon_decay, epsilon_start, epsilon_end, \"started at:\", datetime.datetime.now(), \"on device:\", device)\n",
    "    #Create the environment\n",
    "    env = make_env()\n",
    "    #Create the experience replay buffer\n",
    "    exp_replay_buffer = ExperienceReplay(capacity=buffer_size)\n",
    "    #Create the agent\n",
    "    agent = Agent(env, exp_replay_buffer)\n",
    "    #Create the DQN\n",
    "    dqn = DQN(env.observation_space.shape, env.action_space.n).to(device)\n",
    "    #Create the target DQN\n",
    "    target_dqn = DQN(env.observation_space.shape, env.action_space.n).to(device)\n",
    "    #Set the target DQN's weights to be the same as the DQN\n",
    "    target_dqn.load_state_dict(dqn.state_dict())\n",
    "    #Set the target DQN to evaluation mode\n",
    "    target_dqn.eval()\n",
    "    #Create the optimizer\n",
    "    optimizer = optim.Adam(dqn.parameters(), lr=lr)\n",
    "    #Create the strategy\n",
    "    strategy = EpsilonGreedyStrategy(epsilon_start, epsilon_end, epsilon_decay)\n",
    "    #Set the frame number to 0\n",
    "    frame_number = 0\n",
    "    #set the episode number to 0\n",
    "    episode_number = 0\n",
    "    #Set the total reward list to empty\n",
    "    total_reward_list = []\n",
    "    \n",
    "    #Set the best mean reward to -infinity initially\n",
    "    best_mean_reward = -float('inf')\n",
    "    #Set the no improvement count to 0\n",
    "    no_improvement_count = 0\n",
    "    #Loop over the episodes\n",
    "    for _ in range(num_episodes):\n",
    "        frame_number += 1\n",
    "        epsilon = strategy.get_exploration_rate(frame_number)\n",
    "        \n",
    "        #Take a step in the environment\n",
    "        reward = agent.step(dqn, strategy)\n",
    "        \n",
    "        #If the reward is not None, then the episode is done\n",
    "        if reward is not None:\n",
    "            episode_number += 1\n",
    "            #Append the total reward to the total reward list\n",
    "            total_reward_list.append(reward)\n",
    "            #Get the mean of the total reward list\n",
    "            mean_reward = np.mean(total_reward_list[-100:])\n",
    "            #Print the episode number, frame number, reward and mean reward and epsilon\n",
    "            print(f\"Episode:{episode_number} | Frame:{frame_number} | Total games:{len(total_reward_list)}  | Episode reward: {reward:.3f} | Mean reward: {mean_reward:.3f} | epsilon used: {epsilon:.3f}\")\n",
    "            #Print all the hyperparameters used in this episode\n",
    "            print(f\"lr={lr} | gamma={gamma} | batch_size={batch_size} | target_update={target_update} | epsilon_decay={epsilon_decay} | epsilon_start={epsilon_start} | epsilon_end={epsilon_end} | buffer_size={buffer_size}\")\n",
    "            \n",
    "            #Add the mean reward, episode number, frame number and epsilon to the wandb logs\n",
    "            wandb.log({'Episode reward': reward, 'Mean Reward': mean_reward, 'Episode': episode_number, 'Frame': frame_number, 'Epsilon': epsilon})\n",
    "\n",
    "            #If the mean reward is greater than \"solved_reward\", then we have solved the environment\n",
    "            if mean_reward > solved_reward:\n",
    "                print(\"Solved in\", frame_number, \"frames and\", len(total_reward_list), \"games!\")\n",
    "                #break\n",
    "            \n",
    "            if mean_reward > best_mean_reward:\n",
    "                best_mean_reward = mean_reward\n",
    "                save_model(dqn, optimizer, filename=f\"model_{lr}_{gamma}_{batch_size}_{buffer_size}_{target_update}_{epsilon_decay}_{epsilon_start}_{epsilon_end}.pth\")\n",
    "                wandb.log({'Best Mean Reward': best_mean_reward})\n",
    "            else:\n",
    "                no_improvement_count += 1\n",
    "            \n",
    "            #enforce early stopping if the model has converged\n",
    "            if episode_number >= min_episodes and no_improvement_count >= max_no_improvement:\n",
    "                print(\"Stopping training as the model has converged!\")\n",
    "                break\n",
    "            \n",
    "        #Check if the replay buffer has enough experience to sample a batch    \n",
    "        if len(exp_replay_buffer) < batch_size:\n",
    "            continue\n",
    "        \n",
    "        #If the replay buffer has enough experience to sample a batch, then sample a batch\n",
    "        batch = exp_replay_buffer.sample(batch_size)\n",
    "        \n",
    "        #Get the states, actions, rewards, terminated, truncated, new_states from the batch\n",
    "        states_, actions_, rewards_, terminated_, truncated_, new_states_ = batch\n",
    "        \n",
    "        #Turn the states, actions, rewards, terminated, truncated, new_states into tensors and send them to the device\n",
    "        states = torch.tensor(np.array(states_).transpose(0, 3, 1, 2), dtype=torch.float32).to(device)\n",
    "        actions = torch.tensor(actions_).to(device)\n",
    "        rewards = torch.tensor(rewards_).to(device)\n",
    "        terminateds = torch.tensor(terminated_).to(device)\n",
    "        truncateds = torch.tensor(truncated_).to(device)\n",
    "        #as bitwise cuda is not implemented for floats, we will use the logical and operator to combine the terminateds and truncateds\n",
    "        dones = torch.logical_or(terminateds, truncateds).to(device)\n",
    "        new_states = torch.tensor(np.array(new_states_).transpose(0, 3, 1, 2), dtype=torch.float32).to(device)\n",
    "        \n",
    "        \n",
    "        #Get the q_values from the DQN by passing the states through the DQN\n",
    "        Q_values = dqn(states).gather(dim=1, index=actions.unsqueeze(-1)).squeeze(-1) # Use the gather method to get the q_values for the actions taken, and then squeeze the last dimension of the q_values for the loss calculation\n",
    "        \n",
    "        #Get the q_values for next state from the target DQN by passing the new_states through the target DQN\n",
    "        new_state_Q_values = target_dqn(new_states).max(dim=1)[0] # Get the q_values for the new_states from the target DQN and take the max of the q_values\n",
    "        new_state_Q_values[dones] = 0 # If the episode is terminated or truncated, then set the new_state_q_values to 0\n",
    "        new_state_Q_values = new_state_Q_values.detach() # Detach the new_state_q_values from the computational graph so that the gradients are not calculated for the new_state_q_values\n",
    "        \n",
    "        #Compute the expected q_values using the bellman equation\n",
    "        expected_Q_values = rewards + gamma * new_state_Q_values\n",
    "        \n",
    "        #Compute the loss between the Q_values and the expected_Q_values\n",
    "        loss = F.smooth_l1_loss(Q_values, expected_Q_values) # Use the smooth_l1_loss function to compute the loss, I use this loss function because it is less sensitive to outliers than the mse loss function\n",
    "        \n",
    "        #Zero the gradients\n",
    "        optimizer.zero_grad()\n",
    "        #Compute the gradients\n",
    "        loss.backward()\n",
    "        #Clip the gradients\n",
    "        for param in dqn.parameters():\n",
    "            param.grad.clamp_(-1, 1) # Use the clamp_ method to clip the gradients between -1 and 1 to avoid exploding gradients\n",
    "        #Update the weights of the DQN\n",
    "        optimizer.step()\n",
    "        \n",
    "        #Check if the frame number is a multiple of the target_update and if so, update the target DQN's weights to be the same as the DQN\n",
    "        if frame_number % target_update == 0:\n",
    "            target_dqn.load_state_dict(dqn.state_dict())\n",
    "    \n",
    "    results.append({\n",
    "        'lr': lr,\n",
    "        'gamma': gamma,\n",
    "        'batch_size': batch_size,\n",
    "        'buffer_size': buffer_size,\n",
    "        'target_update': target_update,\n",
    "        'epsilon_decay': epsilon_decay,\n",
    "        'epsilon_start': epsilon_start,\n",
    "        'epsilon_end': epsilon_end,\n",
    "        'best_mean_reward': best_mean_reward,\n",
    "        'episodes_to_solve': episode_number,\n",
    "    })\n",
    "    # Save results to a file\n",
    "    with open(\"training_results.txt\", \"w\") as file:\n",
    "        for result in results:\n",
    "            file.write(str(result) + \"\\n\")   \n",
    "    \n",
    "    #Close the writer\n",
    "    wandb.finish()\n",
    "  "
   ]
  },
  {
   "cell_type": "markdown",
   "metadata": {},
   "source": [
    "## Multi-GPU training"
   ]
  },
  {
   "cell_type": "code",
   "execution_count": null,
   "metadata": {},
   "outputs": [],
   "source": [
    "import multiprocessing\n",
    "import os\n",
    "import wandb\n",
    "import torch\n",
    "import torch.optim as optim\n",
    "import torch.nn.functional as F\n",
    "from datetime import datetime\n",
    "\n",
    "def train_hyperparameters(hyperparams):\n",
    "    lr, gamma, batch_size, buffer_size, target_update, epsilon_decay, epsilon_start, epsilon_end = hyperparams\n",
    "    device_id = multiprocessing.current_process()._identity[0] % torch.cuda.device_count()\n",
    "    device = torch.device(f'cuda:{device_id}' if torch.cuda.is_available() else 'cpu')\n",
    "    os.environ['CUDA_VISIBLE_DEVICES'] = str(device_id)\n",
    "\n",
    "    wandb.init(project=\"DQN_RIGHT_PONG\", entity=\"neildlf\", config={\n",
    "        'lr': lr,\n",
    "        'gamma': gamma,\n",
    "        'batch_size': batch_size,\n",
    "        'buffer_size': buffer_size,\n",
    "        'target_update': target_update,\n",
    "        'epsilon_decay': epsilon_decay,\n",
    "        'epsilon_start': epsilon_start,\n",
    "        'epsilon_end': epsilon_end,\n",
    "    })\n",
    "\n",
    "    print(f\"Training on GPU {device_id} for parameters: {lr}, {gamma}, {batch_size}, {buffer_size}, {target_update}, {epsilon_decay}, {epsilon_start}, {epsilon_end}\")\n",
    "\n",
    "    env = make_env()\n",
    "    exp_replay_buffer = ExperienceReplay(capacity=buffer_size)\n",
    "    agent = Agent(env, exp_replay_buffer)\n",
    "    dqn = DQN(env.observation_space.shape, env.action_space.n).to(device)\n",
    "    target_dqn = DQN(env.observation_space.shape, env.action_space.n).to(device)\n",
    "    target_dqn.load_state_dict(dqn.state_dict())\n",
    "    target_dqn.eval()\n",
    "    optimizer = optim.Adam(dqn.parameters(), lr=lr)\n",
    "    strategy = EpsilonGreedyStrategy(epsilon_start, epsilon_end, epsilon_decay)\n",
    "\n",
    "    frame_number = 0\n",
    "    episode_number = 0\n",
    "    best_mean_reward = -float('inf')\n",
    "    no_improvement_count = 0\n",
    "\n",
    "    for _ in range(num_episodes):\n",
    "        frame_number += 1\n",
    "        epsilon = strategy.get_exploration_rate(frame_number)\n",
    "        \n",
    "        reward = agent.step(dqn, strategy, device)\n",
    "        if reward is not None:\n",
    "            episode_number += 1\n",
    "            total_reward_list.append(reward)\n",
    "            mean_reward = np.mean(total_reward_list[-100:])\n",
    "            wandb.log({'Mean Reward': mean_reward, 'Episode': episode_number, 'Frame': frame_number, 'Epsilon': epsilon})\n",
    "\n",
    "            if mean_reward > best_mean_reward:\n",
    "                best_mean_reward = mean_reward\n",
    "                save_model(dqn, optimizer, filename=f\"model_{lr}_{gamma}_{batch_size}_{buffer_size}_{target_update}_{epsilon_decay}_{epsilon_start}_{epsilon_end}.pth\")\n",
    "                wandb.log({'Best Mean Reward': best_mean_reward})\n",
    "            else:\n",
    "                no_improvement_count += 1\n",
    "\n",
    "            if episode_number >= min_episodes and no_improvement_count >= max_no_improvement:\n",
    "                print(\"Stopping training due to no improvement.\")\n",
    "                break\n",
    "\n",
    "        if len(exp_replay_buffer) < batch_size:\n",
    "            continue\n",
    "\n",
    "        states_, actions_, rewards_, terminated_, truncated_, new_states_ = exp_replay_buffer.sample(batch_size)\n",
    "        states = torch.tensor(states_, dtype=torch.float32).to(device)\n",
    "        actions = torch.tensor(actions_).to(device)\n",
    "        rewards = torch.tensor(rewards_).to(device)\n",
    "        terminateds = torch.tensor(terminated_).to(device)\n",
    "        truncateds = torch.tensor(truncated_).to(device)\n",
    "        dones = torch.logical_or(terminateds, truncateds).to(device)\n",
    "        new_states = torch.tensor(new_states_, dtype=torch.float32).to(device)\n",
    "\n",
    "        Q_values = dqn(states).gather(dim=1, index=actions.unsqueeze(-1)).squeeze(-1)\n",
    "        new_state_Q_values = target_dqn(new_states).max(dim=1)[0]\n",
    "        new_state_Q_values[dones] = 0\n",
    "        new_state_Q_values = new_state_Q_values.detach()\n",
    "        expected_Q_values = rewards + gamma * new_state_Q_values\n",
    "        loss = F.smooth_l1_loss(Q_values, expected_Q_values)\n",
    "\n",
    "        optimizer.zero_grad()\n",
    "        loss.backward()\n",
    "        for param in dqn.parameters():\n",
    "            param.grad.clamp_(-1, 1)\n",
    "        optimizer.step()\n",
    "\n",
    "        if frame_number % target_update == 0:\n",
    "            target_dqn.load_state_dict(dqn.state_dict())\n",
    "\n",
    "    wandb.finish()\n",
    "\n",
    "# Hyperparameters and constants\n",
    "num_episodes = 10000000\n",
    "max_steps_per_episode = 10000000\n",
    "solved_reward = 19\n",
    "min_episodes = 100\n",
    "max_no_improvement = 100\n",
    "lrs = [0.0001, 0.00025, 0.0005, 0.001, 0.0025, 0.005]\n",
    "gammas = [0.99, 0.95, 0.9, 0.85, 0.8]\n",
    "batch_sizes = [32, 64, 128, 256, 512]\n",
    "buffer_sizes = [10000, 20000, 50000, 100000, 200000]\n",
    "target_updates = [100, 200, 500, 1000, 2000]\n",
    "epsilon_decays = [100000, 200000, 500000, 1000000, 2000000]\n",
    "epsilon_starts = [1.0, 0.9, 0.8, 0.7, 0.6]\n",
    "epsilon_ends = [0.02, 0.04, 0.06, 0.08, 0.1]\n",
    "env_name = \"ALE/Pong-v5\"\n",
    "\n",
    "\n",
    "\n",
    "all_hyperparams = [(lr, gamma, batch_size, buffer_size, target_update, epsilon_decay, epsilon_start, epsilon_end)\n",
    "                   for lr in lrs for gamma in gammas for batch_size in batch_sizes\n",
    "                   for buffer_size in buffer_sizes for target_update in target_updates\n",
    "                   for epsilon_decay in epsilon_decays for epsilon_start in epsilon_starts\n",
    "                   for epsilon_end in epsilon_ends]\n",
    "\n",
    "pool = multiprocessing.Pool(processes=6)  # Adjust based on your GPU count\n",
    "pool.map(train_hyperparameters, all_hyperparams)\n",
    "pool.close()\n",
    "pool.join()\n",
    "\n",
    "# Save results to a file\n",
    "with open(\"training_results.txt\", \"w\") as file:\n",
    "    for result in results:\n",
    "        file.write(str(result) + \"\\n\")\n"
   ]
  }
 ],
 "metadata": {
  "kernelspec": {
   "display_name": "base",
   "language": "python",
   "name": "python3"
  },
  "language_info": {
   "codemirror_mode": {
    "name": "ipython",
    "version": 3
   },
   "file_extension": ".py",
   "mimetype": "text/x-python",
   "name": "python",
   "nbconvert_exporter": "python",
   "pygments_lexer": "ipython3",
   "version": "3.11.5"
  }
 },
 "nbformat": 4,
 "nbformat_minor": 2
}
